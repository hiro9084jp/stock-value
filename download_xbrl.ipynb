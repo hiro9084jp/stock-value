{
 "cells": [
  {
   "cell_type": "code",
   "execution_count": null,
   "metadata": {},
   "outputs": [],
   "source": [
    "# -*- coding: utf-8 -*-\n",
    "import requests\n",
    "import datetime\n",
    "import time"
   ]
  },
  {
   "cell_type": "code",
   "execution_count": null,
   "metadata": {},
   "outputs": [],
   "source": [
    "def make_day_list(start_date, end_date):\n",
    "    print(\"start_date：\", start_date)\n",
    "    print(\"end_day：\", end_date)\n",
    "\n",
    "    period = end_date - start_date\n",
    "    period = int(period.days)\n",
    "    day_list = []\n",
    "    for d in range(period):\n",
    "        day = start_date + datetime.timedelta(days=d)\n",
    "        day_list.append(day)\n",
    "\n",
    "    day_list.append(end_date)\n",
    "\n",
    "    return day_list"
   ]
  },
  {
   "cell_type": "code",
   "execution_count": null,
   "metadata": {},
   "outputs": [],
   "source": [
    "def make_doc_id_list(day_list):\n",
    "    securities_report_doc_list = []\n",
    "    for index, day in enumerate(day_list):\n",
    "        url = \"https://disclosure.edinet-fsa.go.jp/api/v1/documents.json\"\n",
    "        params = {\"date\": day, \"type\": 2}\n",
    "\n",
    "        time.sleep(0.5)\n",
    "        res = requests.get(url, params=params)\n",
    "        json_data = res.json()\n",
    "        print(day)\n",
    "\n",
    "        for num in range(len(json_data[\"results\"])):\n",
    "\n",
    "            ordinance_code = json_data[\"results\"][num][\"ordinanceCode\"]\n",
    "            form_code = json_data[\"results\"][num][\"formCode\"]\n",
    "\n",
    "            # 〇有価証券報告書\n",
    "            # if ordinanceCode == \"010\" and formCode ==\"030000\" :\n",
    "            # 〇訂正有価証券報告書\n",
    "            # if ordinanceCode == \"010\" and formCode ==\"030001\" :\n",
    "            # 〇四半期報告書\n",
    "            # if ordinanceCode == \"010\" and formCode ==\"043000\" :\n",
    "            # 〇訂正四半期報告書\n",
    "            # if ordinanceCode == \"010\" and formCode ==\"043001\" :\n",
    "    \n",
    "            if ordinance_code == \"010\" and (form_code == \"030000\" or form_code == \"043000\"):\n",
    "                print(json_data[\"results\"][num][\"filerName\"], json_data[\"results\"][num][\"docDescription\"],\n",
    "                      json_data[\"results\"][num][\"docID\"])\n",
    "                securities_report_doc_list.append(json_data[\"results\"][num][\"docID\"])\n",
    "\n",
    "    return securities_report_doc_list"
   ]
  },
  {
   "cell_type": "code",
   "execution_count": null,
   "metadata": {},
   "outputs": [],
   "source": [
    "def download_xbrl_in_zip(securities_report_doc_list, number_of_lists):\n",
    "    for index, doc_id in enumerate(securities_report_doc_list):\n",
    "        print(doc_id, \":\", index + 1, \"/\", number_of_lists)\n",
    "        url = \"https://disclosure.edinet-fsa.go.jp/api/v1/documents/\" + doc_id\n",
    "        params = {\"type\": 1}\n",
    "        filename = r\"./data/\" + doc_id + \".zip\"\n",
    "        time.sleep(0.5)\n",
    "        res = requests.get(url, params=params, stream=True)\n",
    "\n",
    "        if res.status_code == 200:\n",
    "            with open(filename, 'wb') as file:\n",
    "                for chunk in res.iter_content(chunk_size=1024):\n",
    "                    file.write(chunk)"
   ]
  },
  {
   "cell_type": "code",
   "execution_count": null,
   "metadata": {},
   "outputs": [],
   "source": [
    "def main():\n",
    "    start_date = datetime.date(2021, 11, 10)\n",
    "    end_date = datetime.date(2022, 2, 18)\n",
    "    day_list = make_day_list(start_date, end_date)\n",
    "\n",
    "    securities_report_doc_list = make_doc_id_list(day_list)\n",
    "    number_of_lists = len(securities_report_doc_list)\n",
    "    print(\"number_of_lists：\", len(securities_report_doc_list))\n",
    "    print(\"get_list：\", securities_report_doc_list)\n",
    "\n",
    "    download_xbrl_in_zip(securities_report_doc_list, number_of_lists)\n",
    "    print(\"download finish\")"
   ]
  },
  {
   "cell_type": "code",
   "execution_count": null,
   "metadata": {},
   "outputs": [],
   "source": [
    "if __name__ == \"__main__\":\n",
    "    main()"
   ]
  },
  {
   "cell_type": "code",
   "execution_count": null,
   "metadata": {},
   "outputs": [],
   "source": []
  }
 ],
 "metadata": {
  "kernelspec": {
   "display_name": "Python 3 (ipykernel)",
   "language": "python",
   "name": "python3"
  },
  "language_info": {
   "codemirror_mode": {
    "name": "ipython",
    "version": 3
   },
   "file_extension": ".py",
   "mimetype": "text/x-python",
   "name": "python",
   "nbconvert_exporter": "python",
   "pygments_lexer": "ipython3",
   "version": "3.8.5"
  }
 },
 "nbformat": 4,
 "nbformat_minor": 4
}
