{
 "cells": [
  {
   "cell_type": "code",
   "execution_count": null,
   "id": "6c8ed626",
   "metadata": {},
   "outputs": [],
   "source": [
    "import os\n",
    "import re\n",
    "import zipfile\n",
    "import glob"
   ]
  },
  {
   "cell_type": "code",
   "execution_count": null,
   "id": "7ed177e3",
   "metadata": {},
   "outputs": [],
   "source": [
    "def unzip_file(zip_dir,xbrl_file_expressions):\n",
    "    zip_files = glob.glob(os.path.join(zip_dir, '*.zip'))\n",
    "\n",
    "    number_of_zip_lists = len(zip_files)\n",
    "    print(\"number_of_zip_lists：\", number_of_zip_lists)\n",
    "\n",
    "    for index, zip_file in enumerate(zip_files):\n",
    "        basename = os.path.splitext(os.path.basename(zip_file))[0]\n",
    "        print(zip_file, \":\", index + 1, \"/\", number_of_zip_lists)\n",
    "        with zipfile.ZipFile(zip_file) as zip_f:\n",
    "            zip_f.extractall(zip_dir+\"/\"+basename)\n",
    "            zip_f.close()\n",
    "\n",
    "    xbrl_files = glob.glob(xbrl_file_expressions)\n",
    "    return xbrl_files"
   ]
  },
  {
   "cell_type": "code",
   "execution_count": null,
   "id": "c0a10c4d",
   "metadata": {},
   "outputs": [],
   "source": [
    "def main():\n",
    "    zip_dir = r'./data/'\n",
    "    xbrl_file_expressions = r'./data/*/XBRL/PublicDoc/*.xbrl'\n",
    "    xbrl_files = unzip_file(zip_dir,xbrl_file_expressions)\n",
    "    print(xbrl_files)"
   ]
  },
  {
   "cell_type": "code",
   "execution_count": null,
   "id": "7a7b71e4",
   "metadata": {},
   "outputs": [],
   "source": [
    "if __name__ == \"__main__\":\n",
    "    main()"
   ]
  },
  {
   "cell_type": "code",
   "execution_count": null,
   "id": "4b26e491",
   "metadata": {},
   "outputs": [],
   "source": []
  }
 ],
 "metadata": {
  "kernelspec": {
   "display_name": "Python 3 (ipykernel)",
   "language": "python",
   "name": "python3"
  },
  "language_info": {
   "codemirror_mode": {
    "name": "ipython",
    "version": 3
   },
   "file_extension": ".py",
   "mimetype": "text/x-python",
   "name": "python",
   "nbconvert_exporter": "python",
   "pygments_lexer": "ipython3",
   "version": "3.8.5"
  }
 },
 "nbformat": 4,
 "nbformat_minor": 5
}
